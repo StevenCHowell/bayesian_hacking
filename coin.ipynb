{
 "cells": [
  {
   "cell_type": "markdown",
   "metadata": {},
   "source": [
    "Say you have a bag of 99 fair coins and 1 coin that has heads on both sides.  You draw a coin from the bag and flip it 10 times, each time showing heads.  What is the probability you drew the unfair coin?"
   ]
  },
  {
   "cell_type": "markdown",
   "metadata": {},
   "source": [
    "# Analytic Solution\n",
    "We want to know the probability the coin drawn from the bag was the unfair coin, given it flipped heads 10 times.  \n",
    "\n",
    "---\n",
    "## Conditional Probability\n",
    "To solve this analytically, first we need to learn about conditional probability.  Consider two events we will represent using $A$ and $B$.  For our example, the events will be:   \n",
    "\n",
    "        A) drawing the unfair coin from the bag    \n",
    "        B) flipping heads 10 times \n",
    "\n",
    "The probability of both events happening, $P(A\\cap B)$, is equal to the probability of $A$ happening, $P(A)$, multiplied by the probability of $B$ happening given $A$ has occurred, $P(B|A)$.  \n",
    "\n",
    "$$P(A\\cap B) = P(B|A) P(A)$$\n",
    "\n",
    "We could also switch this around, as $P(A\\cap B)$ also is equal to the probability of $B$ happening, $P(B)$, multiplied by the probability of $A$ happening given $B$ has occurred, $P(A|B)$.\n",
    "\n",
    "$$P(A\\cap B) = P(A|B) P(B)$$\n",
    "\n",
    "Putting these equalities together, we have \n",
    "$$P(A|B) P(B) = P(B|A) P(A)$$\n",
    "\n",
    "which we can rewrite as\n",
    "$$ P(A | B) = \\frac{P(B | A) P(A)}{P(B)} $$\n",
    "\n",
    "This is Bayes' theorem."
   ]
  },
  {
   "cell_type": "markdown",
   "metadata": {},
   "source": [
    "---\n",
    "## What about the coin you drew?\n",
    "To figure out the probability you drew the unfair coin, we have\n",
    "- the probability of drawing the unfair coin from the bag: $P(A)$\n",
    "- the probability of flipping heads 10 times: $P(B)$\n",
    "\n",
    "We know the probability of drawing the unfair coin.\n",
    "$$P(A) = 1 / 100$$\n",
    "\n",
    "If we did draw the unfair coin, we know the probability of flipping heads 10 times will be\n",
    "\n",
    "$$P(B | A) = 10 / 10 = 1$$\n",
    "\n",
    "What about the probabilities related to drawing a fair coin, or not drawing the unfair coin, $P(!A)$?  The probability of not drawing the fair coin is $1 - P(A)$, or\n",
    "\n",
    "$$P(!A) = 99 / 100$$\n",
    "\n",
    "If we did draw a fair coin, we know the probability of flipping heads will be 1/2 for each flip, so for 10 flips we get\n",
    "\n",
    "$$P(B | !A) = 1/2^{10}$$\n",
    "\n",
    "From this we can calculate the probability of flipping nheads 10 times, $P(B)$, as\n",
    "\n",
    "$$P(B) = P(B | A) P(A) + P(B | !A) P(!A)$$\n",
    "\n",
    "or \n",
    "\n",
    "$$P(B) = 1 \\times 1/100 + 1/2^{10} \\times 99/100$$\n",
    "\n",
    "and we have everything we need to solve the problem."
   ]
  },
  {
   "cell_type": "code",
   "execution_count": null,
   "metadata": {},
   "outputs": [],
   "source": [
    "p_a = 1.0 / 100.0\n",
    "p_ba = 1.0\n",
    "p_na = 99.0 / 100.0\n",
    "p_bna = 0.5 ** 10\n",
    "\n",
    "p_b = p_ba * p_a + p_bna * p_na\n",
    "p_ab = p_ba * p_a / p_b\n",
    "\n",
    "print(f'Probability the drawn coin was unfair, given it flipped heads 10 times: {p_ab*100:0.1f}%')"
   ]
  },
  {
   "cell_type": "markdown",
   "metadata": {},
   "source": [
    "So the coin you drew is 91% likely to be the unfair coin.  **Is that as low/high as you thought it would be?**"
   ]
  },
  {
   "cell_type": "markdown",
   "metadata": {},
   "source": [
    "# Calculated Solution\n",
    "Lets apply our Python hacking skills to instead simulate the experiment and see how often flipping 10 heads resulted from the unfair coin.  Inspired by [Jake Vanderplas'](http://vanderplas.com/) PyCon 2016 talk \"[Statistics for Hacker](https://www.youtube.com/watch?v=Iq9DzN6mvYA)\"."
   ]
  },
  {
   "cell_type": "code",
   "execution_count": null,
   "metadata": {},
   "outputs": [],
   "source": [
    "import numpy as np\n",
    "np.set_printoptions(suppress=True)"
   ]
  },
  {
   "cell_type": "code",
   "execution_count": null,
   "metadata": {},
   "outputs": [],
   "source": [
    "import time"
   ]
  },
  {
   "cell_type": "code",
   "execution_count": null,
   "metadata": {},
   "outputs": [],
   "source": [
    "import bokeh.plotting\n",
    "from bokeh.palettes import Category10_10 as palette\n",
    "from bokeh.models import Range1d"
   ]
  },
  {
   "cell_type": "code",
   "execution_count": null,
   "metadata": {},
   "outputs": [],
   "source": [
    "import bokeh.resources\n",
    "bokeh.plotting.output_notebook(resources=bokeh.resources.INLINE)"
   ]
  },
  {
   "cell_type": "markdown",
   "metadata": {},
   "source": [
    "Setup the coins:"
   ]
  },
  {
   "cell_type": "code",
   "execution_count": null,
   "metadata": {},
   "outputs": [],
   "source": [
    "# 100 coin all fair\n",
    "n_coins = 100\n",
    "coins = np.zeros(n_coins, dtype=np.int)  \n",
    "\n",
    "# make one random coin unfair\n",
    "coins[np.random.randint(1, n_coins, 1)] = 1"
   ]
  },
  {
   "cell_type": "markdown",
   "metadata": {},
   "source": [
    "Define the coin draw-flip routine:"
   ]
  },
  {
   "cell_type": "code",
   "execution_count": null,
   "metadata": {},
   "outputs": [],
   "source": [
    "def flip_generator(coins, *, n_flips=10):\n",
    "    n_coins = len(coins)\n",
    "    \n",
    "    coin_index = np.random.randint(0, n_coins, 1)[0]\n",
    "    drawn_coin = coins[coin_index]\n",
    "    \n",
    "    # did we get the unfair coin?\n",
    "    coin_unfair = drawn_coin == 1  \n",
    "\n",
    "    if coin_unfair:\n",
    "        all_heads = True\n",
    "    else: \n",
    "        for j in range(n_flips):\n",
    "            # random number between [0, 1)\n",
    "            flip = np.random.rand()  \n",
    "\n",
    "            if flip > 0.5:\n",
    "                all_heads = True\n",
    "            else:\n",
    "                all_heads = False\n",
    "                break\n",
    "\n",
    "    if all_heads:\n",
    "        # report the index and if the coin was unfair\n",
    "        yield coin_unfair"
   ]
  },
  {
   "cell_type": "markdown",
   "metadata": {},
   "source": [
    "Simulate the coin draw-flip routine a million times."
   ]
  },
  {
   "cell_type": "code",
   "execution_count": null,
   "metadata": {
    "scrolled": true
   },
   "outputs": [],
   "source": [
    "n_all_heads = 0\n",
    "n_unfair = 0\n",
    "all_heads = []\n",
    "all_unfair = []\n",
    "\n",
    "n_draw_from_bag = 5_000_000\n",
    "\n",
    "for i in range(n_draw_from_bag):\n",
    "    \n",
    "    ten_heads = list(flip_generator(coins))\n",
    "    \n",
    "    if ten_heads:\n",
    "        n_all_heads += 1\n",
    "        \n",
    "        if ten_heads[0]:\n",
    "            n_unfair += 1\n",
    "        \n",
    "        # calculate the fraction of unfair \n",
    "        frac_unfair = n_unfair / n_all_heads\n",
    "        \n",
    "        # update lists for later plotting\n",
    "        all_heads.append(n_all_heads)\n",
    "        all_unfair.append(frac_unfair)"
   ]
  },
  {
   "cell_type": "code",
   "execution_count": null,
   "metadata": {},
   "outputs": [],
   "source": [
    "print(f'Of {n_all_heads} all-heads occurances, {frac_unfair*100:.1f}% were unfair.')"
   ]
  },
  {
   "cell_type": "markdown",
   "metadata": {},
   "source": [
    "**This closely matches the same probability we got from the analytic solution.**  Lets see how this changed over the course of the simulation."
   ]
  },
  {
   "cell_type": "code",
   "execution_count": null,
   "metadata": {},
   "outputs": [],
   "source": [
    "x_axis_label = 'N 10-heads'\n",
    "y_axis_label = 'Fraction of times 10-heads was from the unfair coin'"
   ]
  },
  {
   "cell_type": "code",
   "execution_count": null,
   "metadata": {},
   "outputs": [],
   "source": [
    "p = bokeh.plotting.figure(\n",
    "    width=600, height=400,\n",
    "    y_axis_label=y_axis_label,\n",
    "    x_axis_label=x_axis_label,\n",
    ")                       \n",
    "\n",
    "p.line(all_heads, all_unfair, \n",
    "       color=palette[0], legend='simulated result')\n",
    "p.line([all_heads[0], all_heads[-1]], [p_ab, p_ab], \n",
    "       color=palette[1], legend='analytic result')\n",
    "\n",
    "p.legend.location = 'top_right'\n",
    "bokeh.plotting.show(p)"
   ]
  },
  {
   "cell_type": "markdown",
   "metadata": {},
   "source": [
    "We see the simulated result equilibrated rather quickly to a value close to the analytic result.  We expect that running for a longer number of iterations would further improve the agreement."
   ]
  },
  {
   "cell_type": "code",
   "execution_count": null,
   "metadata": {
    "scrolled": false
   },
   "outputs": [],
   "source": [
    "fig = bokeh.plotting.figure(\n",
    "    plot_width=800, plot_height=400,\n",
    "    y_axis_label=y_axis_label,\n",
    "    x_axis_label=x_axis_label,\n",
    ")\n",
    "test_data = bokeh.models.sources.ColumnDataSource(data=dict(x=[0], y=[0]))\n",
    "\n",
    "line_data = fig.line(\"x\", \"y\", source=test_data)\n",
    "handle = bokeh.io.show(fig, notebook_handle=True)\n",
    "\n",
    "new_data=dict(x=[0], y=[0])\n",
    "new_ref = dict(end=[0, 0], p=[p_ab, p_ab])\n",
    "\n",
    "step = 0\n",
    "n_all_heads = 0\n",
    "n_unfair = 0\n",
    "\n",
    "max_step = 100000  # arbitrary stop point for example\n",
    "n_show = 500  # number of points to keep and show\n",
    "while step < max_step:\n",
    "    step += 1\n",
    "\n",
    "    res = list(flip_generator(coins))\n",
    "    if res:\n",
    "        n_all_heads += 1\n",
    "        if res[0]:\n",
    "            n_unfair += 1\n",
    "        frac_unfair = n_unfair / n_all_heads\n",
    "\n",
    "        new_data['x'] = [n_all_heads]  \n",
    "        new_data['y'] = [frac_unfair]  \n",
    "        \n",
    "        test_data.stream(new_data, n_show)\n",
    "\n",
    "        bokeh.io.push_notebook(handle=handle)\n",
    "        time.sleep(0.1)"
   ]
  },
  {
   "cell_type": "code",
   "execution_count": null,
   "metadata": {},
   "outputs": [],
   "source": []
  }
 ],
 "metadata": {
  "kernelspec": {
   "display_name": "Python 3",
   "language": "python",
   "name": "python3"
  },
  "language_info": {
   "codemirror_mode": {
    "name": "ipython",
    "version": 3
   },
   "file_extension": ".py",
   "mimetype": "text/x-python",
   "name": "python",
   "nbconvert_exporter": "python",
   "pygments_lexer": "ipython3",
   "version": "3.6.5"
  }
 },
 "nbformat": 4,
 "nbformat_minor": 2
}
