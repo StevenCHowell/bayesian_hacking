{
 "cells": [
  {
   "cell_type": "code",
   "execution_count": null,
   "metadata": {},
   "outputs": [],
   "source": [
    "import time\n",
    "import numpy as np"
   ]
  },
  {
   "cell_type": "code",
   "execution_count": null,
   "metadata": {},
   "outputs": [],
   "source": [
    "from bokeh.models.sources import ColumnDataSource\n",
    "from bokeh.plotting import figure\n",
    "from bokeh.io import output_notebook, show, push_notebook"
   ]
  },
  {
   "cell_type": "code",
   "execution_count": null,
   "metadata": {},
   "outputs": [],
   "source": [
    "output_notebook()"
   ]
  },
  {
   "cell_type": "code",
   "execution_count": null,
   "metadata": {},
   "outputs": [],
   "source": [
    "my_figure = figure(plot_width=800, plot_height=400)\n",
    "test_data = ColumnDataSource(data=dict(x=[0], y=[0]))\n",
    "line = my_figure.line(\"x\", \"y\", source=test_data)\n",
    "handle = show(my_figure, notebook_handle=True)\n",
    "\n",
    "new_data=dict(x=[], y=[])\n",
    "x = []\n",
    "y = []\n",
    "\n",
    "step = 0\n",
    "step_size = 0.1  # increment for increasing step\n",
    "max_step = 10  # arbitrary stop point for example\n",
    "period = .1  # in seconds (simulate waiting for new data)\n",
    "# n_show = 10  # number of points to keep and show\n",
    "while step < max_step:\n",
    "    x.append(step)\n",
    "    y.append(np.random.rand())\n",
    "    \n",
    "    new_data['x'] = x\n",
    "    new_data['y'] = y\n",
    "\n",
    "    test_data.stream(new_data)\n",
    "\n",
    "    push_notebook(handle=handle)\n",
    "    step += step_size\n",
    "    time.sleep(period)"
   ]
  },
  {
   "cell_type": "code",
   "execution_count": null,
   "metadata": {},
   "outputs": [],
   "source": [
    "x"
   ]
  },
  {
   "cell_type": "code",
   "execution_count": null,
   "metadata": {},
   "outputs": [],
   "source": []
  }
 ],
 "metadata": {
  "anaconda-cloud": {},
  "kernelspec": {
   "display_name": "Python 3",
   "language": "python",
   "name": "python3"
  },
  "language_info": {
   "codemirror_mode": {
    "name": "ipython",
    "version": 3
   },
   "file_extension": ".py",
   "mimetype": "text/x-python",
   "name": "python",
   "nbconvert_exporter": "python",
   "pygments_lexer": "ipython3",
   "version": "3.6.5"
  }
 },
 "nbformat": 4,
 "nbformat_minor": 1
}
